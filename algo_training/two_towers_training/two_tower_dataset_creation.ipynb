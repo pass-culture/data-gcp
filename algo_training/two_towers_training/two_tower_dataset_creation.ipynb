{
 "cells": [
  {
   "cell_type": "code",
   "execution_count": null,
   "metadata": {
    "collapsed": true
   },
   "outputs": [],
   "source": [
    "STORAGE_PATH = \"gs://mlflow-bucket-ehp/algo_training_stg/algo_training_v2_two_tower_20230111T094741\""
   ]
  },
  {
   "cell_type": "markdown",
   "source": [
    "# Get data"
   ],
   "metadata": {
    "collapsed": false,
    "pycharm": {
     "name": "#%% md\n"
    }
   }
  },
  {
   "cell_type": "code",
   "execution_count": null,
   "outputs": [],
   "source": [
    "import pandas as pd\n",
    "\n",
    "raw_data = pd.read_gbq(\n",
    "    \"\"\"\n",
    "SELECT\n",
    "    booking.user_id,\n",
    "    CAST(enruser.user_age AS INT64) AS user_age,\n",
    "    enruser.user_postal_code,\n",
    "    enruser.user_activity,\n",
    "    enruser.booking_cnt AS user_booking_cnt,\n",
    "    ROUND(enruser.theoretical_amount_spent, -1) AS user_theoretical_amount_spent,\n",
    "    ROUND(enruser.user_theoretical_remaining_credit, -1) AS user_theoretical_remaining_credit,\n",
    "    enruser.cnt_distinct_type_booking AS user_distinct_type_booking_cnt,\n",
    "\n",
    "    offer_item_ids.item_id as item_id,\n",
    "    subcategories.category_id as offer_categoryId,\n",
    "    offer.offer_subcategoryId as offer_subcategoryid,\n",
    "    STRING_AGG(enroffer.offer_name, ' ') AS item_names,\n",
    "    STRING_AGG(enroffer.rayon, ' ') AS item_rayons,\n",
    "    STRING_AGG(enroffer.author, \" \") AS item_author,\n",
    "    STRING_AGG(enroffer.performer, \" \") AS item_performer,\n",
    "    ROUND(AVG(enroffer.last_stock_price), -1) AS item_mean_stock_price,\n",
    "    ROUND(SUM(enroffer.booking_confirm_cnt), -1) AS item_booking_cnt,\n",
    "    ROUND(SUM(enroffer.favourite_cnt), -1) AS item_favourite_cnt,\n",
    "\n",
    "    COUNT(*) as count\n",
    "from\n",
    "    `passculture-data-ehp.clean_stg`.`applicative_database_booking` booking\n",
    "    inner join `passculture-data-ehp.clean_stg`.`applicative_database_stock` stock on booking.stock_id = stock.stock_id\n",
    "    inner join `passculture-data-ehp.clean_stg`.`applicative_database_offer` offer on stock.offer_id = offer.offer_id\n",
    "    inner join `passculture-data-ehp.analytics_stg`.`subcategories` subcategories on offer.offer_subcategoryId = subcategories.id\n",
    "    inner join `passculture-data-ehp.analytics_stg`.`enriched_offer_data` enroffer on enroffer.offer_id = offer.offer_id\n",
    "    inner join `passculture-data-ehp.analytics_stg`.`offer_item_ids` offer_item_ids on offer_item_ids.offer_id = offer.offer_id\n",
    "    inner join `passculture-data-ehp.analytics_stg`.`enriched_user_data` enruser on enruser.user_id = booking.user_id\n",
    "where\n",
    "    booking.booking_creation_date >= DATE_SUB(DATE(\"2023-01-12\"), INTERVAL 8 MONTH)\n",
    "    and booking.booking_creation_date <= DATE(\"2023-01-12\")\n",
    "    and booking.user_id is not null\n",
    "group by\n",
    "    booking.user_id,\n",
    "    enruser.user_age,\n",
    "    enruser.user_postal_code,\n",
    "    enruser.user_activity,\n",
    "    enruser.booking_cnt,\n",
    "    enruser.theoretical_amount_spent,\n",
    "    enruser.user_theoretical_remaining_credit,\n",
    "    enruser.cnt_distinct_type_booking,\n",
    "\n",
    "    offer_item_ids.item_id,\n",
    "    subcategories.category_id,\n",
    "    offer.offer_subcategoryId\n",
    "    \"\"\"\n",
    ")"
   ],
   "metadata": {
    "collapsed": false,
    "pycharm": {
     "name": "#%%\n"
    }
   }
  },
  {
   "cell_type": "code",
   "execution_count": null,
   "outputs": [],
   "source": [
    "raw_data.describe()"
   ],
   "metadata": {
    "collapsed": false,
    "pycharm": {
     "name": "#%%\n"
    }
   }
  },
  {
   "cell_type": "code",
   "execution_count": null,
   "outputs": [],
   "source": [
    "raw_data.to_csv(f\"{STORAGE_PATH}/raw_data.csv\", index=False)"
   ],
   "metadata": {
    "collapsed": false,
    "pycharm": {
     "name": "#%%\n"
    }
   }
  },
  {
   "cell_type": "markdown",
   "source": [
    "# Preprocess"
   ],
   "metadata": {
    "collapsed": false,
    "pycharm": {
     "name": "#%% md\n"
    }
   }
  },
  {
   "cell_type": "code",
   "execution_count": null,
   "outputs": [],
   "source": [
    "clean_data = raw_data.fillna(\n",
    "    {\n",
    "        \"user_postal_code\": \"none\",\n",
    "        \"user_activity\": \"none\",\n",
    "        \"user_booking_cnt\": 0,\n",
    "        \"user_theoretical_amount_spent\": 0,\n",
    "        \"user_theoretical_remaining_credit\": 0,\n",
    "        \"user_distinct_type_booking_cnt\": 0,\n",
    "        \"item_names\": \"none\",\n",
    "        \"item_rayons\": \"none\",\n",
    "        \"item_author\": \"none\",\n",
    "        \"item_performer\": \"none\",\n",
    "        \"item_mean_stock_price\": 0,\n",
    "        \"item_booking_cnt\": 0,\n",
    "        \"item_favourite_cnt\": 0,\n",
    "    }\n",
    ").astype(\n",
    "    {\n",
    "        \"user_theoretical_amount_spent\": \"int\",\n",
    "        \"user_theoretical_remaining_credit\": \"int\",\n",
    "        \"user_distinct_type_booking_cnt\": \"int\",\n",
    "        \"item_mean_stock_price\": \"int\",\n",
    "        \"item_booking_cnt\": \"int\",\n",
    "        \"item_favourite_cnt\": \"int\",\n",
    "    }\n",
    ")"
   ],
   "metadata": {
    "collapsed": false,
    "pycharm": {
     "name": "#%%\n"
    }
   }
  },
  {
   "cell_type": "code",
   "execution_count": null,
   "outputs": [],
   "source": [
    "clean_data.describe()"
   ],
   "metadata": {
    "collapsed": false,
    "pycharm": {
     "name": "#%%\n"
    }
   }
  },
  {
   "cell_type": "code",
   "execution_count": null,
   "outputs": [],
   "source": [
    "clean_data.to_csv(f\"{STORAGE_PATH}/clean_data.csv\", index=False)"
   ],
   "metadata": {
    "collapsed": false,
    "pycharm": {
     "name": "#%%\n"
    }
   }
  },
  {
   "cell_type": "markdown",
   "source": [
    "# Split data"
   ],
   "metadata": {
    "collapsed": false,
    "pycharm": {
     "name": "#%% md\n"
    }
   }
  },
  {
   "cell_type": "code",
   "execution_count": null,
   "outputs": [],
   "source": [
    "from split_data import main\n",
    "\n",
    "main(STORAGE_PATH)"
   ],
   "metadata": {
    "collapsed": false,
    "pycharm": {
     "name": "#%%\n"
    }
   }
  },
  {
   "cell_type": "code",
   "execution_count": null,
   "outputs": [],
   "source": [
    "pd.read_csv(f\"{STORAGE_PATH}/positive_data_eval.csv\").describe()\n"
   ],
   "metadata": {
    "collapsed": false,
    "pycharm": {
     "name": "#%%\n"
    }
   }
  }
 ],
 "metadata": {
  "kernelspec": {
   "display_name": "Python 3",
   "language": "python",
   "name": "python3"
  },
  "language_info": {
   "codemirror_mode": {
    "name": "ipython",
    "version": 2
   },
   "file_extension": ".py",
   "mimetype": "text/x-python",
   "name": "python",
   "nbconvert_exporter": "python",
   "pygments_lexer": "ipython2",
   "version": "2.7.6"
  }
 },
 "nbformat": 4,
 "nbformat_minor": 0
}