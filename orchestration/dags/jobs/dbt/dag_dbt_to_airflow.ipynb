{
 "cells": [
  {
   "cell_type": "code",
   "execution_count": 1,
   "metadata": {},
   "outputs": [
    {
     "data": {
      "text/html": [
       "<pre style=\"white-space:pre;overflow-x:auto;line-height:normal;font-family:Menlo,'DejaVu Sans Mono',consolas,'Courier New',monospace\"><span style=\"color: #808000; text-decoration-color: #808000; font-weight: bold\">/var/folders/0h/h649npyj09d0rbmt622w5f1c0000gn/T/ipykernel_50748/3852040973.py:</span><span style=\"color: #808000; text-decoration-color: #808000; font-weight: bold\">5</span><span style=\"color: #808000; text-decoration-color: #808000; font-weight: bold\"> DeprecationWarning</span><span style=\"color: #808000; text-decoration-color: #808000\">: The `airflow.operators.bash_operator.BashOperator` class is deprecated. Please use `</span><span style=\"color: #808000; text-decoration-color: #808000\">'airflow.operators.bash.BashOperator'</span><span style=\"color: #808000; text-decoration-color: #808000\">`.</span>\n",
       "</pre>\n"
      ],
      "text/plain": [
       "\u001b[1;33m/var/folders/0h/h649npyj09d0rbmt622w5f1c0000gn/T/ipykernel_50748/\u001b[0m\u001b[1;33m3852040973.py\u001b[0m\u001b[1;33m:\u001b[0m\u001b[1;33m5\u001b[0m\u001b[1;33m DeprecationWarning\u001b[0m\u001b[33m: The `airflow.operators.bash_operator.BashOperator` class is deprecated. Please use `\u001b[0m\u001b[33m'airflow.operators.bash.BashOperator'\u001b[0m\u001b[33m`.\u001b[0m\n"
      ]
     },
     "metadata": {},
     "output_type": "display_data"
    },
    {
     "data": {
      "text/html": [
       "<pre style=\"white-space:pre;overflow-x:auto;line-height:normal;font-family:Menlo,'DejaVu Sans Mono',consolas,'Courier New',monospace\"><span style=\"color: #808000; text-decoration-color: #808000; font-weight: bold\">/var/folders/0h/h649npyj09d0rbmt622w5f1c0000gn/T/ipykernel_50748/3852040973.py:</span><span style=\"color: #808000; text-decoration-color: #808000; font-weight: bold\">6</span><span style=\"color: #808000; text-decoration-color: #808000; font-weight: bold\"> DeprecationWarning</span><span style=\"color: #808000; text-decoration-color: #808000\">: The `airflow.operators.dummy_operator.DummyOperator` class is deprecated. Please use `</span><span style=\"color: #808000; text-decoration-color: #808000\">'airflow.operators.empty.EmptyOperator'</span><span style=\"color: #808000; text-decoration-color: #808000\">`.</span>\n",
       "</pre>\n"
      ],
      "text/plain": [
       "\u001b[1;33m/var/folders/0h/h649npyj09d0rbmt622w5f1c0000gn/T/ipykernel_50748/\u001b[0m\u001b[1;33m3852040973.py\u001b[0m\u001b[1;33m:\u001b[0m\u001b[1;33m6\u001b[0m\u001b[1;33m DeprecationWarning\u001b[0m\u001b[33m: The `airflow.operators.dummy_operator.DummyOperator` class is deprecated. Please use `\u001b[0m\u001b[33m'airflow.operators.empty.EmptyOperator'\u001b[0m\u001b[33m`.\u001b[0m\n"
      ]
     },
     "metadata": {},
     "output_type": "display_data"
    }
   ],
   "source": [
    "import datetime\n",
    "import json\n",
    "\n",
    "from airflow import DAG\n",
    "from airflow.operators.bash_operator import BashOperator\n",
    "from airflow.operators.dummy_operator import DummyOperator\n",
    "from airflow.utils.dates import datetime\n",
    "from airflow.utils.dates import timedelta\n",
    "PATH_TO_DBT_PROJECT = \"/Users/valentin/Github/data-gcp/orchestration/dags/data_gcp_dbt\"\n"
   ]
  },
  {
   "cell_type": "code",
   "execution_count": 2,
   "metadata": {},
   "outputs": [],
   "source": [
    "def load_manifest():\n",
    "    local_filepath = PATH_TO_DBT_PROJECT  + \"/target/manifest.json\"\n",
    "    with open(local_filepath) as f:\n",
    "        data = json.load(f)\n",
    "\n",
    "    return data"
   ]
  },
  {
   "cell_type": "code",
   "execution_count": 3,
   "metadata": {},
   "outputs": [],
   "source": [
    "def make_dbt_run_single_task(node, dag,DBT_DIR = PATH_TO_DBT_PROJECT,full_refresh =False,GLOBAL_CLI_FLAGS = \"--no-write-json\"):\n",
    "    \"\"\"Returns an Airflow operator either run and test an individual model\"\"\"\n",
    "    node_alias = node['alias']\n",
    "    dbt_task = BashOperator(\n",
    "        task_id=node_alias,\n",
    "        bash_command=f\"\"\"\n",
    "        dbt {GLOBAL_CLI_FLAGS} run --target dev --select {node_alias} --no-compile\n",
    "        \"\"\" if not full_refresh else f\"\"\"\n",
    "        dbt {GLOBAL_CLI_FLAGS} run --target dev --select {node_alias} --no-compile --full-refresh\n",
    "        \"\"\",\n",
    "        cwd=PATH_TO_DBT_PROJECT, \n",
    "        dag=dag\n",
    "    )\n",
    "\n",
    "    return dbt_task"
   ]
  },
  {
   "cell_type": "code",
   "execution_count": 4,
   "metadata": {},
   "outputs": [
    {
     "data": {
      "text/plain": [
       "dict_keys(['model.data_gcp_dbt.isbn_rayon_editor', 'model.data_gcp_dbt.bookable_collective_offer', 'model.data_gcp_dbt.available_stock_information', 'model.data_gcp_dbt.offer_item_ids', 'model.data_gcp_dbt.booking', 'model.data_gcp_dbt.cleaned_stock', 'model.data_gcp_dbt.offer_extracted_data', 'model.data_gcp_dbt.bookable_offer', 'model.data_gcp_dbt.agg_partner_cultural_sector', 'model.data_gcp_dbt.linked_offers', 'model.data_gcp_dbt.siren_data', 'model.data_gcp_dbt.subcategories', 'model.data_gcp_dbt.siren_data_labels', 'model.data_gcp_dbt.region_department', 'model.data_gcp_dbt.applicative_database_offerer_tag_category', 'model.data_gcp_dbt.applicative_database_offerer_tag_category_mapping', 'model.data_gcp_dbt.applicative_database_collective_booking', 'model.data_gcp_dbt.applicative_database_favorite', 'model.data_gcp_dbt.applicative_database_venue_criterion', 'model.data_gcp_dbt.applicative_database_offerer_tag', 'model.data_gcp_dbt.applicative_database_offerer', 'model.data_gcp_dbt.applicative_database_criterion_category', 'model.data_gcp_dbt.applicative_database_price_category_label', 'model.data_gcp_dbt.applicative_database_booking', 'model.data_gcp_dbt.applicative_database_price_category', 'model.data_gcp_dbt.applicative_database_criterion_category_mapping', 'model.data_gcp_dbt.applicative_database_collective_offer_template', 'model.data_gcp_dbt.applicative_database_mediation', 'model.data_gcp_dbt.applicative_database_stock', 'model.data_gcp_dbt.applicative_database_offerer_tag_mapping', 'model.data_gcp_dbt.applicative_database_venue_registration', 'model.data_gcp_dbt.applicative_database_collective_offer', 'model.data_gcp_dbt.applicative_database_criterion', 'model.data_gcp_dbt.applicative_database_collective_stock', 'model.data_gcp_dbt.applicative_database_offer', 'model.data_gcp_dbt.applicative_database_venue_contact', 'model.data_gcp_dbt.applicative_database_national_program', 'model.data_gcp_dbt.applicative_database_venue_label', 'model.data_gcp_dbt.applicative_database_venue', 'model.data_gcp_dbt.applicative_database_booking_history', 'model.data_gcp_dbt.bookable_venue_history', 'model.data_gcp_dbt.enriched_venue_tags_data', 'model.data_gcp_dbt.enriched_offer_data', 'model.data_gcp_dbt.enriched_venue_data', 'model.data_gcp_dbt.enriched_collective_offer_data', 'model.data_gcp_dbt.enriched_offerer_tags_data', 'model.data_gcp_dbt.enriched_cultural_partner_data', 'model.data_gcp_dbt.enriched_offerer_data', 'test.data_gcp_dbt.dummy_test', 'model.elementary.snapshot_run_results', 'model.elementary.job_run_results', 'model.elementary.model_run_results', 'model.elementary.test_result_rows', 'model.elementary.elementary_test_results', 'model.elementary.dbt_source_freshness_results', 'model.elementary.alerts_dbt_tests', 'model.elementary.alerts_schema_changes', 'model.elementary.alerts_dbt_source_freshness', 'model.elementary.alerts_anomaly_detection', 'model.elementary.alerts_dbt_models', 'model.elementary.monitors_runs', 'model.elementary.dbt_tests', 'model.elementary.dbt_models', 'model.elementary.dbt_sources', 'model.elementary.dbt_snapshots', 'model.elementary.dbt_invocations', 'model.elementary.dbt_metrics', 'model.elementary.dbt_seeds', 'model.elementary.dbt_artifacts_hashes', 'model.elementary.dbt_run_results', 'model.elementary.dbt_exposures', 'model.elementary.metrics_anomaly_score', 'model.elementary.anomaly_threshold_sensitivity', 'model.elementary.schema_columns_snapshot', 'model.elementary.data_monitoring_metrics', 'model.elementary.filtered_information_schema_columns', 'model.elementary.filtered_information_schema_tables', 'operation.elementary.elementary-on-run-start-0', 'operation.elementary.elementary-on-run-end-0', 'test.data_gcp_dbt.not_null_siren_data_siren.565b43275a', 'test.data_gcp_dbt.unique_siren_data_siren.0fdebc9526', 'test.data_gcp_dbt.relationships_siren_data_categorieEntreprise__dep_name__ref_region_department_.8efee564d5', 'test.data_gcp_dbt.accepted_values_siren_data_categorieEntreprise__PME__GE.92736e9208'])"
      ]
     },
     "execution_count": 4,
     "metadata": {},
     "output_type": "execute_result"
    }
   ],
   "source": [
    "data = load_manifest()\n",
    "data['nodes'].keys()\n",
    "\n",
    "\n",
    "\n"
   ]
  },
  {
   "cell_type": "code",
   "execution_count": null,
   "metadata": {},
   "outputs": [],
   "source": []
  },
  {
   "cell_type": "code",
   "execution_count": 5,
   "metadata": {},
   "outputs": [
    {
     "name": "stdout",
     "output_type": "stream",
     "text": [
      "test.data_gcp_dbt.dummy_test\n",
      "test.data_gcp_dbt.not_null_siren_data_siren.565b43275a\n",
      "test.data_gcp_dbt.unique_siren_data_siren.0fdebc9526\n",
      "test.data_gcp_dbt.relationships_siren_data_categorieEntreprise__dep_name__ref_region_department_.8efee564d5\n",
      "test.data_gcp_dbt.accepted_values_siren_data_categorieEntreprise__PME__GE.92736e9208\n"
     ]
    }
   ],
   "source": [
    "standard_tests = [\"not_null\",\"unique\",\"accepted_values\",\"relationships\"]\n",
    "for i,node in enumerate(data[\"nodes\"].keys()):\n",
    "    if \"test\" in node.split(\".\"): \n",
    "        print(node)\n",
    "        \n",
    "        \n",
    "        "
   ]
  },
  {
   "cell_type": "code",
   "execution_count": 6,
   "metadata": {},
   "outputs": [
    {
     "data": {
      "text/plain": [
       "{'database': 'passculture-data-ehp',\n",
       " 'schema': 'tmp_dev',\n",
       " 'name': 'dummy_test',\n",
       " 'resource_type': 'test',\n",
       " 'package_name': 'data_gcp_dbt',\n",
       " 'path': 'dummy_test.sql',\n",
       " 'original_file_path': 'tests/dummy_test.sql',\n",
       " 'unique_id': 'test.data_gcp_dbt.dummy_test',\n",
       " 'fqn': ['data_gcp_dbt', 'dummy_test'],\n",
       " 'alias': 'dummy_test',\n",
       " 'checksum': {'name': 'sha256',\n",
       "  'checksum': '5f7096d753dfb36157ef9c0bf043418589833d113d25b04d79f61a03ca45efe4'},\n",
       " 'config': {'enabled': True,\n",
       "  'alias': None,\n",
       "  'schema': 'dbt_test__audit',\n",
       "  'database': None,\n",
       "  'tags': [],\n",
       "  'meta': {},\n",
       "  'group': None,\n",
       "  'materialized': 'test',\n",
       "  'severity': 'ERROR',\n",
       "  'store_failures': True,\n",
       "  'store_failures_as': 'table',\n",
       "  'where': None,\n",
       "  'limit': None,\n",
       "  'fail_calc': 'count(*)',\n",
       "  'warn_if': '!= 0',\n",
       "  'error_if': '>=10',\n",
       "  'docs': {'show': True, 'tags': 'test'}},\n",
       " 'tags': [],\n",
       " 'description': '',\n",
       " 'columns': {},\n",
       " 'meta': {},\n",
       " 'group': None,\n",
       " 'docs': {'show': True, 'node_color': None},\n",
       " 'patch_path': None,\n",
       " 'build_path': None,\n",
       " 'deferred': False,\n",
       " 'unrendered_config': {'store_failures': True,\n",
       "  'severity': 'ERROR',\n",
       "  'docs': {'show': True, 'tags': 'test'},\n",
       "  'error_if': '>=10'},\n",
       " 'created_at': 1701095747.3079739,\n",
       " 'relation_name': '`passculture-data-ehp`.`tmp_dev`.`dummy_test`',\n",
       " 'raw_code': '{{ config(severity = \\'ERROR\\',error_if= \">=10\") }}\\nselect * from {{ref(\\'siren_data\\')}}',\n",
       " 'language': 'sql',\n",
       " 'refs': [{'name': 'siren_data', 'package': None, 'version': None}],\n",
       " 'sources': [],\n",
       " 'metrics': [],\n",
       " 'depends_on': {'macros': [], 'nodes': ['model.data_gcp_dbt.siren_data']},\n",
       " 'compiled_path': 'target/compiled/data_gcp_dbt/tests/dummy_test.sql',\n",
       " 'compiled': True,\n",
       " 'compiled_code': '\\nselect * from `passculture-data-ehp`.`tmp_dev`.`siren_data`',\n",
       " 'extra_ctes_injected': True,\n",
       " 'extra_ctes': [],\n",
       " 'contract': {'enforced': False, 'alias_types': True, 'checksum': None}}"
      ]
     },
     "execution_count": 6,
     "metadata": {},
     "output_type": "execute_result"
    }
   ],
   "source": [
    "data[\"nodes\"][\"test.data_gcp_dbt.dummy_test\"]"
   ]
  },
  {
   "cell_type": "code",
   "execution_count": 7,
   "metadata": {},
   "outputs": [
    {
     "data": {
      "text/plain": [
       "{'database': 'passculture-data-ehp',\n",
       " 'schema': 'tmp_dev',\n",
       " 'name': 'siren_data',\n",
       " 'resource_type': 'model',\n",
       " 'package_name': 'data_gcp_dbt',\n",
       " 'path': 'raw/siren_data.sql',\n",
       " 'original_file_path': 'models/raw/siren_data.sql',\n",
       " 'unique_id': 'model.data_gcp_dbt.siren_data',\n",
       " 'fqn': ['data_gcp_dbt', 'raw', 'siren_data'],\n",
       " 'alias': 'siren_data',\n",
       " 'checksum': {'name': 'sha256',\n",
       "  'checksum': '752b3768f2dd123c8c49c3a53dcd1eb8164db9cd6577d16996cdfe78c2fb00f4'},\n",
       " 'config': {'enabled': True,\n",
       "  'alias': None,\n",
       "  'schema': None,\n",
       "  'database': None,\n",
       "  'tags': ['pro'],\n",
       "  'meta': {},\n",
       "  'group': None,\n",
       "  'materialized': 'view',\n",
       "  'incremental_strategy': None,\n",
       "  'persist_docs': {},\n",
       "  'post-hook': [],\n",
       "  'pre-hook': [],\n",
       "  'quoting': {},\n",
       "  'column_types': {},\n",
       "  'full_refresh': None,\n",
       "  'unique_key': None,\n",
       "  'on_schema_change': 'ignore',\n",
       "  'on_configuration_change': 'apply',\n",
       "  'grants': {},\n",
       "  'packages': [],\n",
       "  'docs': {'show': True, 'node_color': '#0320fc'},\n",
       "  'contract': {'enforced': False, 'alias_types': True},\n",
       "  'access': 'protected'},\n",
       " 'tags': ['pro'],\n",
       " 'description': '',\n",
       " 'columns': {'siren': {'name': 'siren',\n",
       "   'description': '',\n",
       "   'meta': {},\n",
       "   'data_type': None,\n",
       "   'constraints': [],\n",
       "   'quote': None,\n",
       "   'tags': []},\n",
       "  'categorieEntreprise': {'name': 'categorieEntreprise',\n",
       "   'description': '',\n",
       "   'meta': {},\n",
       "   'data_type': None,\n",
       "   'constraints': [],\n",
       "   'quote': None,\n",
       "   'tags': []}},\n",
       " 'meta': {},\n",
       " 'group': None,\n",
       " 'docs': {'show': True, 'node_color': '#0320fc'},\n",
       " 'patch_path': 'data_gcp_dbt://models/raw/schema.yml',\n",
       " 'build_path': None,\n",
       " 'deferred': False,\n",
       " 'unrendered_config': {'materialized': 'view',\n",
       "  'docs': {'node_color': '#0320fc'},\n",
       "  'tags': ['pro']},\n",
       " 'created_at': 1701095748.7359822,\n",
       " 'relation_name': '`passculture-data-ehp`.`tmp_dev`.`siren_data`',\n",
       " 'raw_code': \"SELECT * FROM {{ source('clean', 'siren_data') }}\",\n",
       " 'language': 'sql',\n",
       " 'refs': [],\n",
       " 'sources': [['clean', 'siren_data']],\n",
       " 'metrics': [],\n",
       " 'depends_on': {'macros': [],\n",
       "  'nodes': ['source.data_gcp_dbt.clean.siren_data']},\n",
       " 'compiled_path': 'target/compiled/data_gcp_dbt/models/raw/siren_data.sql',\n",
       " 'compiled': True,\n",
       " 'compiled_code': 'SELECT * FROM `passculture-data-ehp`.`clean_dev`.`siren_data`',\n",
       " 'extra_ctes_injected': True,\n",
       " 'extra_ctes': [],\n",
       " 'contract': {'enforced': False, 'alias_types': True, 'checksum': None},\n",
       " 'access': 'protected',\n",
       " 'constraints': [],\n",
       " 'version': None,\n",
       " 'latest_version': None,\n",
       " 'deprecation_date': None}"
      ]
     },
     "execution_count": 7,
     "metadata": {},
     "output_type": "execute_result"
    }
   ],
   "source": [
    "data[\"nodes\"]['model.data_gcp_dbt.siren_data']"
   ]
  },
  {
   "cell_type": "code",
   "execution_count": 8,
   "metadata": {},
   "outputs": [
    {
     "data": {
      "text/plain": [
       "{'test_metadata': {'name': 'not_null',\n",
       "  'kwargs': {'column_name': 'siren',\n",
       "   'model': \"{{ get_where_subquery(ref('siren_data')) }}\"},\n",
       "  'namespace': None},\n",
       " 'database': 'passculture-data-ehp',\n",
       " 'schema': 'tmp_dev',\n",
       " 'name': 'not_null_siren_data_siren',\n",
       " 'resource_type': 'test',\n",
       " 'package_name': 'data_gcp_dbt',\n",
       " 'path': 'not_null_siren_data_siren.sql',\n",
       " 'original_file_path': 'models/raw/schema.yml',\n",
       " 'unique_id': 'test.data_gcp_dbt.not_null_siren_data_siren.565b43275a',\n",
       " 'fqn': ['data_gcp_dbt', 'raw', 'not_null_siren_data_siren'],\n",
       " 'alias': 'not_null_siren_data_siren',\n",
       " 'checksum': {'name': 'none', 'checksum': ''},\n",
       " 'config': {'enabled': True,\n",
       "  'alias': None,\n",
       "  'schema': 'dbt_test__audit',\n",
       "  'database': None,\n",
       "  'tags': [],\n",
       "  'meta': {},\n",
       "  'group': None,\n",
       "  'materialized': 'test',\n",
       "  'severity': 'warn',\n",
       "  'store_failures': True,\n",
       "  'store_failures_as': 'table',\n",
       "  'where': None,\n",
       "  'limit': None,\n",
       "  'fail_calc': 'count(*)',\n",
       "  'warn_if': '!= 0',\n",
       "  'error_if': '!= 0',\n",
       "  'docs': {'show': True, 'tags': 'test'}},\n",
       " 'tags': [],\n",
       " 'description': '',\n",
       " 'columns': {},\n",
       " 'meta': {},\n",
       " 'group': None,\n",
       " 'docs': {'show': True, 'node_color': None},\n",
       " 'patch_path': None,\n",
       " 'build_path': None,\n",
       " 'deferred': False,\n",
       " 'unrendered_config': {'store_failures': True,\n",
       "  'severity': 'warn',\n",
       "  'docs': {'show': True, 'tags': 'test'}},\n",
       " 'created_at': 1701095748.8095691,\n",
       " 'relation_name': '`passculture-data-ehp`.`tmp_dev`.`not_null_siren_data_siren`',\n",
       " 'raw_code': '{{ test_not_null(**_dbt_generic_test_kwargs) }}',\n",
       " 'language': 'sql',\n",
       " 'refs': [{'name': 'siren_data', 'package': None, 'version': None}],\n",
       " 'sources': [],\n",
       " 'metrics': [],\n",
       " 'depends_on': {'macros': ['macro.dbt.test_not_null',\n",
       "   'macro.dbt.get_where_subquery'],\n",
       "  'nodes': ['model.data_gcp_dbt.siren_data']},\n",
       " 'compiled_path': 'target/compiled/data_gcp_dbt/models/raw/schema.yml/not_null_siren_data_siren.sql',\n",
       " 'compiled': True,\n",
       " 'compiled_code': '\\n    \\n    \\n\\n\\n\\nselect *\\nfrom `passculture-data-ehp`.`tmp_dev`.`siren_data`\\nwhere siren is null\\n\\n\\n',\n",
       " 'extra_ctes_injected': True,\n",
       " 'extra_ctes': [],\n",
       " 'contract': {'enforced': False, 'alias_types': True, 'checksum': None},\n",
       " 'column_name': 'siren',\n",
       " 'file_key_name': 'models.siren_data',\n",
       " 'attached_node': 'model.data_gcp_dbt.siren_data'}"
      ]
     },
     "execution_count": 8,
     "metadata": {},
     "output_type": "execute_result"
    }
   ],
   "source": [
    "data[\"nodes\"][\"test.data_gcp_dbt.not_null_siren_data_siren.565b43275a\"]"
   ]
  },
  {
   "cell_type": "code",
   "execution_count": 13,
   "metadata": {},
   "outputs": [],
   "source": [
    "children_tests = {}\n",
    "for node in data[\"nodes\"].keys():\n",
    "    test_alias = data[\"nodes\"][node].split('.')[-2]\n",
    "    if data[\"nodes\"][node][\"resource_type\"] == \"test\":\n",
    "        parents = data[\"nodes\"][node][\"depends_on\"][\"nodes\"]\n",
    "        for p_node in parents:\n",
    "            p_alias  =  data[\"nodes\"][p_node][\"alias\"]\n",
    "            if children_tests.get(p_alias,None) is None:\n",
    "               children_tests[p_alias] = [test_alias] \n",
    "            else:\n",
    "                children_tests[p_alias] += [test_alias] \n",
    "        \n",
    "        # node_test = node.replace(\"model\", \"test\")\n",
    "        # dbt_tasks[alias] = make_dbt_run_single_task(alias, \"run\")\n",
    "        # try :\n",
    "        #     dbt_tasks[alias] = make_dbt_run_single_task(alias, \"run\",dag)\n",
    "        # except DuplicateTaskIdFound:\n",
    "        #     print( data[\"nodes\"][node]['alias'])\n",
    "        #     # print(dbt_tasks[node])\n",
    "        #     pass\n",
    "    "
   ]
  },
  {
   "cell_type": "code",
   "execution_count": 12,
   "metadata": {},
   "outputs": [
    {
     "data": {
      "text/plain": [
       "{'siren_data': ['test.data_gcp_dbt.dummy_test',\n",
       "  'test.data_gcp_dbt.not_null_siren_data_siren.565b43275a',\n",
       "  'test.data_gcp_dbt.unique_siren_data_siren.0fdebc9526',\n",
       "  'test.data_gcp_dbt.relationships_siren_data_categorieEntreprise__dep_name__ref_region_department_.8efee564d5',\n",
       "  'test.data_gcp_dbt.accepted_values_siren_data_categorieEntreprise__PME__GE.92736e9208'],\n",
       " 'region_department': ['test.data_gcp_dbt.relationships_siren_data_categorieEntreprise__dep_name__ref_region_department_.8efee564d5']}"
      ]
     },
     "execution_count": 12,
     "metadata": {},
     "output_type": "execute_result"
    }
   ],
   "source": [
    "children_tests "
   ]
  },
  {
   "cell_type": "code",
   "execution_count": 43,
   "metadata": {},
   "outputs": [
    {
     "ename": "AttributeError",
     "evalue": "'str' object has no attribute 'task_group'",
     "output_type": "error",
     "traceback": [
      "\u001b[0;31m---------------------------------------------------------------------------\u001b[0m",
      "\u001b[0;31mAttributeError\u001b[0m                            Traceback (most recent call last)",
      "\u001b[1;32m/Users/valentin/Github/data-gcp/orchestration/dags/jobs/dbt/test.ipynb Cell 10\u001b[0m line \u001b[0;36m2\n\u001b[1;32m     <a href='vscode-notebook-cell:/Users/valentin/Github/data-gcp/orchestration/dags/jobs/dbt/test.ipynb#W5sZmlsZQ%3D%3D?line=21'>22</a>\u001b[0m alias \u001b[39m=\u001b[39m data[\u001b[39m\"\u001b[39m\u001b[39mnodes\u001b[39m\u001b[39m\"\u001b[39m][node][\u001b[39m\"\u001b[39m\u001b[39malias\u001b[39m\u001b[39m\"\u001b[39m]\n\u001b[1;32m     <a href='vscode-notebook-cell:/Users/valentin/Github/data-gcp/orchestration/dags/jobs/dbt/test.ipynb#W5sZmlsZQ%3D%3D?line=22'>23</a>\u001b[0m \u001b[39mif\u001b[39;00m data[\u001b[39m\"\u001b[39m\u001b[39mnodes\u001b[39m\u001b[39m\"\u001b[39m][node][\u001b[39m\"\u001b[39m\u001b[39mresource_type\u001b[39m\u001b[39m\"\u001b[39m] \u001b[39m==\u001b[39m \u001b[39m\"\u001b[39m\u001b[39mmodel\u001b[39m\u001b[39m\"\u001b[39m:\n\u001b[1;32m     <a href='vscode-notebook-cell:/Users/valentin/Github/data-gcp/orchestration/dags/jobs/dbt/test.ipynb#W5sZmlsZQ%3D%3D?line=23'>24</a>\u001b[0m     \n\u001b[1;32m     <a href='vscode-notebook-cell:/Users/valentin/Github/data-gcp/orchestration/dags/jobs/dbt/test.ipynb#W5sZmlsZQ%3D%3D?line=24'>25</a>\u001b[0m     \u001b[39m# node_test = node.replace(\"model\", \"test\")\u001b[39;00m\n\u001b[0;32m---> <a href='vscode-notebook-cell:/Users/valentin/Github/data-gcp/orchestration/dags/jobs/dbt/test.ipynb#W5sZmlsZQ%3D%3D?line=25'>26</a>\u001b[0m     dbt_tasks[alias] \u001b[39m=\u001b[39m make_dbt_run_single_task(alias, \u001b[39m\"\u001b[39;49m\u001b[39mrun\u001b[39;49m\u001b[39m\"\u001b[39;49m,dag)\n\u001b[1;32m     <a href='vscode-notebook-cell:/Users/valentin/Github/data-gcp/orchestration/dags/jobs/dbt/test.ipynb#W5sZmlsZQ%3D%3D?line=26'>27</a>\u001b[0m     \u001b[39m# try :\u001b[39;00m\n\u001b[1;32m     <a href='vscode-notebook-cell:/Users/valentin/Github/data-gcp/orchestration/dags/jobs/dbt/test.ipynb#W5sZmlsZQ%3D%3D?line=27'>28</a>\u001b[0m     \u001b[39m#     dbt_tasks[alias] = make_dbt_run_single_task(alias, \"run\",dag)\u001b[39;00m\n\u001b[1;32m     <a href='vscode-notebook-cell:/Users/valentin/Github/data-gcp/orchestration/dags/jobs/dbt/test.ipynb#W5sZmlsZQ%3D%3D?line=28'>29</a>\u001b[0m     \u001b[39m# except DuplicateTaskIdFound:\u001b[39;00m\n\u001b[1;32m     <a href='vscode-notebook-cell:/Users/valentin/Github/data-gcp/orchestration/dags/jobs/dbt/test.ipynb#W5sZmlsZQ%3D%3D?line=29'>30</a>\u001b[0m     \u001b[39m#     print( data[\"nodes\"][node]['alias'])\u001b[39;00m\n\u001b[1;32m     <a href='vscode-notebook-cell:/Users/valentin/Github/data-gcp/orchestration/dags/jobs/dbt/test.ipynb#W5sZmlsZQ%3D%3D?line=30'>31</a>\u001b[0m     \u001b[39m#     # print(dbt_tasks[node])\u001b[39;00m\n\u001b[1;32m     <a href='vscode-notebook-cell:/Users/valentin/Github/data-gcp/orchestration/dags/jobs/dbt/test.ipynb#W5sZmlsZQ%3D%3D?line=31'>32</a>\u001b[0m     \u001b[39m#     pass\u001b[39;00m\n\u001b[1;32m     <a href='vscode-notebook-cell:/Users/valentin/Github/data-gcp/orchestration/dags/jobs/dbt/test.ipynb#W5sZmlsZQ%3D%3D?line=32'>33</a>\u001b[0m \u001b[39mif\u001b[39;00m data[\u001b[39m\"\u001b[39m\u001b[39mnodes\u001b[39m\u001b[39m\"\u001b[39m][node][\u001b[39m\"\u001b[39m\u001b[39mresource_type\u001b[39m\u001b[39m\"\u001b[39m] \u001b[39m==\u001b[39m \u001b[39m\"\u001b[39m\u001b[39mtest\u001b[39m\u001b[39m\"\u001b[39m:\n\u001b[1;32m     <a href='vscode-notebook-cell:/Users/valentin/Github/data-gcp/orchestration/dags/jobs/dbt/test.ipynb#W5sZmlsZQ%3D%3D?line=33'>34</a>\u001b[0m         \n\u001b[1;32m     <a href='vscode-notebook-cell:/Users/valentin/Github/data-gcp/orchestration/dags/jobs/dbt/test.ipynb#W5sZmlsZQ%3D%3D?line=34'>35</a>\u001b[0m     \u001b[39m# node_test = node.replace(\"model\", \"test\")\u001b[39;00m\n",
      "\u001b[1;32m/Users/valentin/Github/data-gcp/orchestration/dags/jobs/dbt/test.ipynb Cell 10\u001b[0m line \u001b[0;36m5\n\u001b[1;32m      <a href='vscode-notebook-cell:/Users/valentin/Github/data-gcp/orchestration/dags/jobs/dbt/test.ipynb#W5sZmlsZQ%3D%3D?line=0'>1</a>\u001b[0m \u001b[39mdef\u001b[39;00m \u001b[39mmake_dbt_run_single_task\u001b[39m(node_alias, dag,DBT_DIR \u001b[39m=\u001b[39m PATH_TO_DBT_PROJECT,GLOBAL_CLI_FLAGS \u001b[39m=\u001b[39m \u001b[39m\"\u001b[39m\u001b[39m--no-write-json\u001b[39m\u001b[39m\"\u001b[39m):\n\u001b[1;32m      <a href='vscode-notebook-cell:/Users/valentin/Github/data-gcp/orchestration/dags/jobs/dbt/test.ipynb#W5sZmlsZQ%3D%3D?line=1'>2</a>\u001b[0m \u001b[39m    \u001b[39m\u001b[39m\"\"\"Returns an Airflow operator either run and test an individual model\"\"\"\u001b[39;00m\n\u001b[0;32m----> <a href='vscode-notebook-cell:/Users/valentin/Github/data-gcp/orchestration/dags/jobs/dbt/test.ipynb#W5sZmlsZQ%3D%3D?line=4'>5</a>\u001b[0m     dbt_task \u001b[39m=\u001b[39m BashOperator(\n\u001b[1;32m      <a href='vscode-notebook-cell:/Users/valentin/Github/data-gcp/orchestration/dags/jobs/dbt/test.ipynb#W5sZmlsZQ%3D%3D?line=5'>6</a>\u001b[0m         task_id\u001b[39m=\u001b[39;49mnode_alias,\n\u001b[1;32m      <a href='vscode-notebook-cell:/Users/valentin/Github/data-gcp/orchestration/dags/jobs/dbt/test.ipynb#W5sZmlsZQ%3D%3D?line=6'>7</a>\u001b[0m         bash_command\u001b[39m=\u001b[39;49m\u001b[39mf\u001b[39;49m\u001b[39m\"\"\"\u001b[39;49m\n\u001b[1;32m      <a href='vscode-notebook-cell:/Users/valentin/Github/data-gcp/orchestration/dags/jobs/dbt/test.ipynb#W5sZmlsZQ%3D%3D?line=7'>8</a>\u001b[0m \u001b[39m        dbt \u001b[39;49m\u001b[39m{\u001b[39;49;00mGLOBAL_CLI_FLAGS\u001b[39m}\u001b[39;49;00m\u001b[39m run --target dev --models \u001b[39;49m\u001b[39m{\u001b[39;49;00mnode_alias\u001b[39m}\u001b[39;49;00m\n\u001b[1;32m      <a href='vscode-notebook-cell:/Users/valentin/Github/data-gcp/orchestration/dags/jobs/dbt/test.ipynb#W5sZmlsZQ%3D%3D?line=8'>9</a>\u001b[0m \u001b[39m        \u001b[39;49m\u001b[39m\"\"\"\u001b[39;49m,\n\u001b[1;32m     <a href='vscode-notebook-cell:/Users/valentin/Github/data-gcp/orchestration/dags/jobs/dbt/test.ipynb#W5sZmlsZQ%3D%3D?line=9'>10</a>\u001b[0m         cwd\u001b[39m=\u001b[39;49mPATH_TO_DBT_PROJECT, \n\u001b[1;32m     <a href='vscode-notebook-cell:/Users/valentin/Github/data-gcp/orchestration/dags/jobs/dbt/test.ipynb#W5sZmlsZQ%3D%3D?line=10'>11</a>\u001b[0m         dag\u001b[39m=\u001b[39;49mdag\n\u001b[1;32m     <a href='vscode-notebook-cell:/Users/valentin/Github/data-gcp/orchestration/dags/jobs/dbt/test.ipynb#W5sZmlsZQ%3D%3D?line=11'>12</a>\u001b[0m     )\n\u001b[1;32m     <a href='vscode-notebook-cell:/Users/valentin/Github/data-gcp/orchestration/dags/jobs/dbt/test.ipynb#W5sZmlsZQ%3D%3D?line=13'>14</a>\u001b[0m     \u001b[39mreturn\u001b[39;00m dbt_task\n",
      "File \u001b[0;32m~/.pyenv/versions/3.10.4/envs/dbt-venv/lib/python3.10/site-packages/airflow/models/baseoperator.py:405\u001b[0m, in \u001b[0;36mBaseOperatorMeta._apply_defaults.<locals>.apply_defaults\u001b[0;34m(self, *args, **kwargs)\u001b[0m\n\u001b[1;32m    403\u001b[0m task_group: TaskGroup \u001b[39m|\u001b[39m \u001b[39mNone\u001b[39;00m \u001b[39m=\u001b[39m kwargs\u001b[39m.\u001b[39mget(\u001b[39m\"\u001b[39m\u001b[39mtask_group\u001b[39m\u001b[39m\"\u001b[39m)\n\u001b[1;32m    404\u001b[0m \u001b[39mif\u001b[39;00m dag \u001b[39mand\u001b[39;00m \u001b[39mnot\u001b[39;00m task_group:\n\u001b[0;32m--> 405\u001b[0m     task_group \u001b[39m=\u001b[39m TaskGroupContext\u001b[39m.\u001b[39;49mget_current_task_group(dag)\n\u001b[1;32m    407\u001b[0m default_args, merged_params \u001b[39m=\u001b[39m get_merged_defaults(\n\u001b[1;32m    408\u001b[0m     dag\u001b[39m=\u001b[39mdag,\n\u001b[1;32m    409\u001b[0m     task_group\u001b[39m=\u001b[39mtask_group,\n\u001b[1;32m    410\u001b[0m     task_params\u001b[39m=\u001b[39mkwargs\u001b[39m.\u001b[39mpop(\u001b[39m\"\u001b[39m\u001b[39mparams\u001b[39m\u001b[39m\"\u001b[39m, \u001b[39mNone\u001b[39;00m),\n\u001b[1;32m    411\u001b[0m     task_default_args\u001b[39m=\u001b[39mkwargs\u001b[39m.\u001b[39mpop(\u001b[39m\"\u001b[39m\u001b[39mdefault_args\u001b[39m\u001b[39m\"\u001b[39m, \u001b[39mNone\u001b[39;00m),\n\u001b[1;32m    412\u001b[0m )\n\u001b[1;32m    414\u001b[0m \u001b[39mfor\u001b[39;00m arg \u001b[39min\u001b[39;00m sig_cache\u001b[39m.\u001b[39mparameters:\n",
      "File \u001b[0;32m~/.pyenv/versions/3.10.4/envs/dbt-venv/lib/python3.10/site-packages/airflow/utils/task_group.py:662\u001b[0m, in \u001b[0;36mTaskGroupContext.get_current_task_group\u001b[0;34m(cls, dag)\u001b[0m\n\u001b[1;32m    659\u001b[0m     dag \u001b[39m=\u001b[39m dag \u001b[39mor\u001b[39;00m DagContext\u001b[39m.\u001b[39mget_current_dag()\n\u001b[1;32m    660\u001b[0m     \u001b[39mif\u001b[39;00m dag:\n\u001b[1;32m    661\u001b[0m         \u001b[39m# If there's currently a DAG but no TaskGroup, return the root TaskGroup of the dag.\u001b[39;00m\n\u001b[0;32m--> 662\u001b[0m         \u001b[39mreturn\u001b[39;00m dag\u001b[39m.\u001b[39;49mtask_group\n\u001b[1;32m    664\u001b[0m \u001b[39mreturn\u001b[39;00m \u001b[39mcls\u001b[39m\u001b[39m.\u001b[39m_context_managed_task_group\n",
      "\u001b[0;31mAttributeError\u001b[0m: 'str' object has no attribute 'task_group'"
     ]
    }
   ],
   "source": [
    "from airflow.exceptions import DuplicateTaskIdFound\n",
    "\n",
    "\n",
    "default_args = {\n",
    "    'depends_on_past': False,\n",
    "    'start_date': datetime(2020, 12, 23),\n",
    "    'retries': 2,\n",
    "    'retry_delay': timedelta(minutes=5)\n",
    "}\n",
    "dag = DAG(\n",
    "    'dbt_dag',\n",
    "    default_args=default_args,\n",
    "    description='A dbt wrapper for airflow',\n",
    "    schedule=timedelta(days=1),\n",
    ")\n",
    "\n",
    "\n",
    "dbt_tasks = {}\n",
    "dbt_tests = {}\n",
    "\n",
    "for node in data[\"nodes\"].keys():\n",
    "    alias = data[\"nodes\"][node][\"alias\"]\n",
    "    if data[\"nodes\"][node][\"resource_type\"] == \"model\":\n",
    "        \n",
    "        # node_test = node.replace(\"model\", \"test\")\n",
    "        dbt_tasks[alias] = make_dbt_run_single_task(alias, \"run\",dag)\n",
    "        # try :\n",
    "        #     dbt_tasks[alias] = make_dbt_run_single_task(alias, \"run\",dag)\n",
    "        # except DuplicateTaskIdFound:\n",
    "        #     print( data[\"nodes\"][node]['alias'])\n",
    "        #     # print(dbt_tasks[node])\n",
    "        #     pass\n",
    "    if data[\"nodes\"][node][\"resource_type\"] == \"test\":\n",
    "            \n",
    "        # node_test = node.replace(\"model\", \"test\")\n",
    "        dbt_tests[alias] = make_dbt_run_single_task(alias, \"run\",dag)\n",
    "\n",
    "        # try :\n",
    "        #     dbt_tasks[node_test] = make_dbt_task(node, \"test\",dag)\n",
    "        # except DuplicateTaskIdFound:\n",
    "        #     # print(node)\n",
    "        #     # print(dbt_tasks[node])\n",
    "        #     pass\n",
    "    if 'elementary' in node.split('.'):\n",
    "        print(node)"
   ]
  },
  {
   "cell_type": "code",
   "execution_count": 70,
   "metadata": {},
   "outputs": [
    {
     "data": {
      "text/plain": [
       "{'macros': [], 'nodes': ['source.data_gcp_dbt.clean.gsheet_eac_webinar']}"
      ]
     },
     "execution_count": 70,
     "metadata": {},
     "output_type": "execute_result"
    }
   ],
   "source": [
    "data[\"nodes\"]['model.data_gcp_dbt.typeform_adage']['depends_on']\n"
   ]
  },
  {
   "cell_type": "code",
   "execution_count": 71,
   "metadata": {},
   "outputs": [],
   "source": [
    "\n",
    "for node in data[\"nodes\"].keys():\n",
    "    if \"elementary\" not in node.split(\".\"):\n",
    "        if node.split(\".\")[0] == \"model\":\n",
    "        \n",
    "            # Set dependency to run tests on a model after model runs finishes\n",
    "            # node_test = node.replace(\"model\", \"test\")\n",
    "            # dbt_tasks[node] >> dbt_tasks[node_test]\n",
    "    \n",
    "            # Set all model -> model dependencies\n",
    "            for upstream_node in data[\"nodes\"][node][\"depends_on\"][\"nodes\"]:\n",
    "            \n",
    "                upstream_node_type = upstream_node.split(\".\")[0]\n",
    "                if upstream_node_type == \"model\":\n",
    "                    dbt_tasks[upstream_node] >> dbt_tasks[node]"
   ]
  },
  {
   "cell_type": "code",
   "execution_count": 49,
   "metadata": {},
   "outputs": [
    {
     "name": "stdout",
     "output_type": "stream",
     "text": [
      "<DAG: dbt_dag>\n"
     ]
    }
   ],
   "source": [
    "print(dag)\n"
   ]
  },
  {
   "cell_type": "code",
   "execution_count": null,
   "metadata": {},
   "outputs": [],
   "source": []
  }
 ],
 "metadata": {
  "kernelspec": {
   "display_name": "dbt-venv",
   "language": "python",
   "name": "python3"
  },
  "language_info": {
   "codemirror_mode": {
    "name": "ipython",
    "version": 3
   },
   "file_extension": ".py",
   "mimetype": "text/x-python",
   "name": "python",
   "nbconvert_exporter": "python",
   "pygments_lexer": "ipython3",
   "version": "3.10.4"
  }
 },
 "nbformat": 4,
 "nbformat_minor": 2
}
