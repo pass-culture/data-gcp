{
 "cells": [
  {
   "cell_type": "code",
   "execution_count": 1,
   "metadata": {},
   "outputs": [
    {
     "data": {
      "text/html": [
       "<pre style=\"white-space:pre;overflow-x:auto;line-height:normal;font-family:Menlo,'DejaVu Sans Mono',consolas,'Courier New',monospace\"><span style=\"color: #808000; text-decoration-color: #808000; font-weight: bold\">/var/folders/0h/h649npyj09d0rbmt622w5f1c0000gn/T/ipykernel_73220/2761397865.py:</span><span style=\"color: #808000; text-decoration-color: #808000; font-weight: bold\">5</span><span style=\"color: #808000; text-decoration-color: #808000; font-weight: bold\"> DeprecationWarning</span><span style=\"color: #808000; text-decoration-color: #808000\">: The `airflow.operators.bash_operator.BashOperator` class is deprecated. Please use `</span><span style=\"color: #808000; text-decoration-color: #808000\">'airflow.operators.bash.BashOperator'</span><span style=\"color: #808000; text-decoration-color: #808000\">`.</span>\n",
       "</pre>\n"
      ],
      "text/plain": [
       "\u001b[1;33m/var/folders/0h/h649npyj09d0rbmt622w5f1c0000gn/T/ipykernel_73220/\u001b[0m\u001b[1;33m2761397865.py\u001b[0m\u001b[1;33m:\u001b[0m\u001b[1;33m5\u001b[0m\u001b[1;33m DeprecationWarning\u001b[0m\u001b[33m: The `airflow.operators.bash_operator.BashOperator` class is deprecated. Please use `\u001b[0m\u001b[33m'airflow.operators.bash.BashOperator'\u001b[0m\u001b[33m`.\u001b[0m\n"
      ]
     },
     "metadata": {},
     "output_type": "display_data"
    }
   ],
   "source": [
    "import datetime\n",
    "import json\n",
    "\n",
    "from airflow import DAG\n",
    "from airflow.operators.bash_operator import BashOperator\n",
    "from airflow.operators.dummy_operator import DummyOperator\n",
    "from airflow.utils.dates import datetime\n",
    "from airflow.utils.dates import timedelta\n",
    "PATH_TO_DBT_PROJECT = \"/Users/valentin/Github/data-gcp/orchestration/dags/data_gcp_dbt\"\n"
   ]
  },
  {
   "cell_type": "code",
   "execution_count": 2,
   "metadata": {},
   "outputs": [],
   "source": [
    "def load_manifest():\n",
    "    local_filepath = PATH_TO_DBT_PROJECT  + \"/target/manifest.json\"\n",
    "    with open(local_filepath) as f:\n",
    "        data = json.load(f)\n",
    "\n",
    "    return data"
   ]
  },
  {
   "cell_type": "code",
   "execution_count": 3,
   "metadata": {},
   "outputs": [],
   "source": [
    "def make_dbt_task(node, dbt_verb,dag):\n",
    "    \"\"\"Returns an Airflow operator either run and test an individual model\"\"\"\n",
    "    DBT_DIR = PATH_TO_DBT_PROJECT\n",
    "    GLOBAL_CLI_FLAGS = \"--no-write-json\"\n",
    "    model = node.split(\".\")[-1]\n",
    "\n",
    "    if dbt_verb == \"run\":\n",
    "        dbt_task = BashOperator(\n",
    "            task_id=model if node.split(\".\")[0]==\"model\" else node.split(\".\")[0]+'.'+model,\n",
    "            bash_command=f\"\"\"\n",
    "            dbt {GLOBAL_CLI_FLAGS} {dbt_verb} --target dev --models {model}\n",
    "            \"\"\",\n",
    "            cwd=PATH_TO_DBT_PROJECT, \n",
    "            dag=dag\n",
    "        )\n",
    "\n",
    "    elif dbt_verb == \"test\":\n",
    "        node_test = node.replace(\"model\", \"test\")\n",
    "        dbt_task = BashOperator(\n",
    "            task_id=node_test,\n",
    "            bash_command=f\"\"\"\n",
    "            dbt {GLOBAL_CLI_FLAGS} {dbt_verb} --target dev --models {model}\n",
    "            \"\"\",\n",
    "            cwd=PATH_TO_DBT_PROJECT,\n",
    "            dag=dag\n",
    "        )\n",
    "\n",
    "    return dbt_task"
   ]
  },
  {
   "cell_type": "code",
   "execution_count": 61,
   "metadata": {},
   "outputs": [
    {
     "data": {
      "text/plain": [
       "dict_keys(['model.data_gcp_dbt.typeform_adage', 'model.data_gcp_dbt.adage', 'model.data_gcp_dbt.adage_involved_institution', 'model.data_gcp_dbt.firebase_app_experiments', 'model.data_gcp_dbt.firebase_events', 'model.data_gcp_dbt.venues', 'model.data_gcp_dbt.offerers', 'model.data_gcp_dbt.bank_information', 'model.data_gcp_dbt.dms_pro', 'model.data_gcp_dbt.dms_jeunes', 'model.data_gcp_dbt.downstream_adage_test', 'model.data_gcp_dbt.firebase_events_bis', 'model.data_gcp_dbt.firebase_visits', 'model.data_gcp_dbt.firebase_venue_data', 'model.data_gcp_dbt.firebase_bookings', 'model.data_gcp_dbt.firebase_aggregated_offers', 'model.data_gcp_dbt.firebase_app_experiments_bis', 'model.data_gcp_dbt.firebase_aggregated_users', 'model.data_gcp_dbt.firebase_session_origin', 'model.data_gcp_dbt.firebase_pro_events', 'operation.data_gcp_dbt.data_gcp_dbt-on-run-start-0', 'operation.data_gcp_dbt.data_gcp_dbt-on-run-start-1', 'model.elementary.snapshot_run_results', 'model.elementary.job_run_results', 'model.elementary.model_run_results', 'model.elementary.test_result_rows', 'model.elementary.elementary_test_results', 'model.elementary.dbt_source_freshness_results', 'model.elementary.alerts_dbt_tests', 'model.elementary.alerts_schema_changes', 'model.elementary.alerts_dbt_source_freshness', 'model.elementary.alerts_anomaly_detection', 'model.elementary.alerts_dbt_models', 'model.elementary.monitors_runs', 'model.elementary.dbt_tests', 'model.elementary.dbt_models', 'model.elementary.dbt_sources', 'model.elementary.dbt_snapshots', 'model.elementary.dbt_invocations', 'model.elementary.dbt_metrics', 'model.elementary.dbt_seeds', 'model.elementary.dbt_artifacts_hashes', 'model.elementary.dbt_run_results', 'model.elementary.dbt_exposures', 'model.elementary.metrics_anomaly_score', 'model.elementary.anomaly_threshold_sensitivity', 'model.elementary.schema_columns_snapshot', 'model.elementary.data_monitoring_metrics', 'model.elementary.filtered_information_schema_columns', 'model.elementary.filtered_information_schema_tables', 'operation.elementary.elementary-on-run-start-0', 'operation.elementary.elementary-on-run-end-0', 'test.data_gcp_dbt.not_null_adage_involved_institution_date.90b50a70b3'])"
      ]
     },
     "execution_count": 61,
     "metadata": {},
     "output_type": "execute_result"
    }
   ],
   "source": [
    "data = load_manifest()\n",
    "data['nodes'].keys()\n",
    "\n",
    "\n",
    "\n"
   ]
  },
  {
   "cell_type": "code",
   "execution_count": 68,
   "metadata": {},
   "outputs": [],
   "source": [
    "default_args = {\n",
    "    'depends_on_past': False,\n",
    "    'start_date': datetime(2020, 12, 23),\n",
    "    'retries': 2,\n",
    "    'retry_delay': timedelta(minutes=5)\n",
    "}\n",
    "dag = DAG(\n",
    "    'dbt_dag',\n",
    "    default_args=default_args,\n",
    "    description='A dbt wrapper for airflow',\n",
    "    schedule=timedelta(days=1),\n",
    ")"
   ]
  },
  {
   "cell_type": "code",
   "execution_count": 69,
   "metadata": {},
   "outputs": [
    {
     "name": "stdout",
     "output_type": "stream",
     "text": [
      "model.data_gcp_dbt.typeform_adage\n",
      "model.data_gcp_dbt.adage\n",
      "model.data_gcp_dbt.adage_involved_institution\n",
      "model.data_gcp_dbt.firebase_app_experiments\n",
      "model.data_gcp_dbt.firebase_events\n",
      "model.data_gcp_dbt.venues\n",
      "model.data_gcp_dbt.offerers\n",
      "model.data_gcp_dbt.bank_information\n",
      "model.data_gcp_dbt.dms_pro\n",
      "model.data_gcp_dbt.dms_jeunes\n",
      "model.data_gcp_dbt.downstream_adage_test\n",
      "model.data_gcp_dbt.firebase_events_bis\n",
      "model.data_gcp_dbt.firebase_visits\n",
      "model.data_gcp_dbt.firebase_venue_data\n",
      "model.data_gcp_dbt.firebase_bookings\n",
      "model.data_gcp_dbt.firebase_aggregated_offers\n",
      "model.data_gcp_dbt.firebase_app_experiments_bis\n",
      "model.data_gcp_dbt.firebase_aggregated_users\n",
      "model.data_gcp_dbt.firebase_session_origin\n",
      "model.data_gcp_dbt.firebase_pro_events\n"
     ]
    }
   ],
   "source": [
    "from airflow.exceptions import DuplicateTaskIdFound\n",
    "dbt_tasks = {}\n",
    "for node in data[\"nodes\"].keys():\n",
    "    if \"elementary\" not in node.split(\".\"):\n",
    "        if node.split(\".\")[0] == \"model\":\n",
    "            node_test = node.replace(\"model\", \"test\")\n",
    "            dbt_tasks[node] = make_dbt_task(node, \"run\",dag)\n",
    "            try :\n",
    "                dbt_tasks[node] = make_dbt_task(node, \"run\",dag)\n",
    "            except DuplicateTaskIdFound:\n",
    "                print(node)\n",
    "                # print(dbt_tasks[node])\n",
    "                pass\n",
    "            try :\n",
    "                dbt_tasks[node_test] = make_dbt_task(node, \"test\",dag)\n",
    "            except DuplicateTaskIdFound:\n",
    "                # print(node)\n",
    "                # print(dbt_tasks[node])\n",
    "                pass"
   ]
  },
  {
   "cell_type": "code",
   "execution_count": 70,
   "metadata": {},
   "outputs": [
    {
     "data": {
      "text/plain": [
       "{'macros': [], 'nodes': ['source.data_gcp_dbt.clean.gsheet_eac_webinar']}"
      ]
     },
     "execution_count": 70,
     "metadata": {},
     "output_type": "execute_result"
    }
   ],
   "source": [
    "data[\"nodes\"]['model.data_gcp_dbt.typeform_adage']['depends_on']\n"
   ]
  },
  {
   "cell_type": "code",
   "execution_count": 71,
   "metadata": {},
   "outputs": [],
   "source": [
    "\n",
    "for node in data[\"nodes\"].keys():\n",
    "    if \"elementary\" not in node.split(\".\"):\n",
    "        if node.split(\".\")[0] == \"model\":\n",
    "        \n",
    "            # Set dependency to run tests on a model after model runs finishes\n",
    "            # node_test = node.replace(\"model\", \"test\")\n",
    "            # dbt_tasks[node] >> dbt_tasks[node_test]\n",
    "    \n",
    "            # Set all model -> model dependencies\n",
    "            for upstream_node in data[\"nodes\"][node][\"depends_on\"][\"nodes\"]:\n",
    "            \n",
    "                upstream_node_type = upstream_node.split(\".\")[0]\n",
    "                if upstream_node_type == \"model\":\n",
    "                    dbt_tasks[upstream_node] >> dbt_tasks[node]"
   ]
  },
  {
   "cell_type": "code",
   "execution_count": 49,
   "metadata": {},
   "outputs": [
    {
     "name": "stdout",
     "output_type": "stream",
     "text": [
      "<DAG: dbt_dag>\n"
     ]
    }
   ],
   "source": [
    "print(dag)\n"
   ]
  },
  {
   "cell_type": "code",
   "execution_count": null,
   "metadata": {},
   "outputs": [],
   "source": []
  }
 ],
 "metadata": {
  "kernelspec": {
   "display_name": "dbt-venv",
   "language": "python",
   "name": "python3"
  },
  "language_info": {
   "codemirror_mode": {
    "name": "ipython",
    "version": 3
   },
   "file_extension": ".py",
   "mimetype": "text/x-python",
   "name": "python",
   "nbconvert_exporter": "python",
   "pygments_lexer": "ipython3",
   "version": "3.10.4"
  }
 },
 "nbformat": 4,
 "nbformat_minor": 2
}
